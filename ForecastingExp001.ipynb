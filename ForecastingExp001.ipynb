{
  "nbformat": 4,
  "nbformat_minor": 0,
  "metadata": {
    "colab": {
      "provenance": [],
      "authorship_tag": "ABX9TyOPPXqrWtKqx5+d8dUOHAxX",
      "include_colab_link": true
    },
    "kernelspec": {
      "name": "python3",
      "display_name": "Python 3"
    },
    "language_info": {
      "name": "python"
    }
  },
  "cells": [
    {
      "cell_type": "markdown",
      "metadata": {
        "id": "view-in-github",
        "colab_type": "text"
      },
      "source": [
        "<a href=\"https://colab.research.google.com/github/egyvedriyanto78/Forecasting-Experiment/blob/main/ForecastingExp001.ipynb\" target=\"_parent\"><img src=\"https://colab.research.google.com/assets/colab-badge.svg\" alt=\"Open In Colab\"/></a>"
      ]
    },
    {
      "cell_type": "markdown",
      "source": [
        "# Forecasting Experiment #001\n",
        "\n",
        "### Data collection was performed using the Yahoo Finance API and FRED API\n",
        "\n",
        "Datasets:\n",
        "- XAU/USD - Gold Price\n",
        "- DXY - US Dollar Index\n",
        "- GDP - Gross Domestic Product (GDP)\n",
        "- CPIAUCSL - Inflation rate / Consumer Price Index\n",
        "- FEDFUNDS - Interest Rate / Federal Funds Effective Rate\n",
        "- UNRATE - Unemployment Rate"
      ],
      "metadata": {
        "id": "yxAsU2Ehli3c"
      }
    },
    {
      "cell_type": "markdown",
      "source": [
        "## Library"
      ],
      "metadata": {
        "id": "mPZcMpw2QLF4"
      }
    },
    {
      "cell_type": "markdown",
      "source": [
        "Pertama, kita perlu menginstal library yang dibutuhkan seperti pandas, requests, dan yfinance. pandas untuk pengolahan data, requests untuk menarik data dari API, dan yfinance untuk data Yahoo Finance."
      ],
      "metadata": {
        "id": "jqd6ICiCQesL"
      }
    },
    {
      "cell_type": "code",
      "execution_count": 1,
      "metadata": {
        "id": "pfhBZ74ZlRl4",
        "colab": {
          "base_uri": "https://localhost:8080/"
        },
        "outputId": "6717ecd7-875c-401e-f673-7cf4ae1e6006"
      },
      "outputs": [
        {
          "output_type": "stream",
          "name": "stdout",
          "text": [
            "Requirement already satisfied: yfinance in /usr/local/lib/python3.10/dist-packages (0.2.48)\n",
            "Requirement already satisfied: pandas>=1.3.0 in /usr/local/lib/python3.10/dist-packages (from yfinance) (2.2.2)\n",
            "Requirement already satisfied: numpy>=1.16.5 in /usr/local/lib/python3.10/dist-packages (from yfinance) (1.26.4)\n",
            "Requirement already satisfied: requests>=2.31 in /usr/local/lib/python3.10/dist-packages (from yfinance) (2.32.3)\n",
            "Requirement already satisfied: multitasking>=0.0.7 in /usr/local/lib/python3.10/dist-packages (from yfinance) (0.0.11)\n",
            "Requirement already satisfied: lxml>=4.9.1 in /usr/local/lib/python3.10/dist-packages (from yfinance) (5.3.0)\n",
            "Requirement already satisfied: platformdirs>=2.0.0 in /usr/local/lib/python3.10/dist-packages (from yfinance) (4.3.6)\n",
            "Requirement already satisfied: pytz>=2022.5 in /usr/local/lib/python3.10/dist-packages (from yfinance) (2024.2)\n",
            "Requirement already satisfied: frozendict>=2.3.4 in /usr/local/lib/python3.10/dist-packages (from yfinance) (2.4.6)\n",
            "Requirement already satisfied: peewee>=3.16.2 in /usr/local/lib/python3.10/dist-packages (from yfinance) (3.17.7)\n",
            "Requirement already satisfied: beautifulsoup4>=4.11.1 in /usr/local/lib/python3.10/dist-packages (from yfinance) (4.12.3)\n",
            "Requirement already satisfied: html5lib>=1.1 in /usr/local/lib/python3.10/dist-packages (from yfinance) (1.1)\n",
            "Requirement already satisfied: soupsieve>1.2 in /usr/local/lib/python3.10/dist-packages (from beautifulsoup4>=4.11.1->yfinance) (2.6)\n",
            "Requirement already satisfied: six>=1.9 in /usr/local/lib/python3.10/dist-packages (from html5lib>=1.1->yfinance) (1.16.0)\n",
            "Requirement already satisfied: webencodings in /usr/local/lib/python3.10/dist-packages (from html5lib>=1.1->yfinance) (0.5.1)\n",
            "Requirement already satisfied: python-dateutil>=2.8.2 in /usr/local/lib/python3.10/dist-packages (from pandas>=1.3.0->yfinance) (2.8.2)\n",
            "Requirement already satisfied: tzdata>=2022.7 in /usr/local/lib/python3.10/dist-packages (from pandas>=1.3.0->yfinance) (2024.2)\n",
            "Requirement already satisfied: charset-normalizer<4,>=2 in /usr/local/lib/python3.10/dist-packages (from requests>=2.31->yfinance) (3.4.0)\n",
            "Requirement already satisfied: idna<4,>=2.5 in /usr/local/lib/python3.10/dist-packages (from requests>=2.31->yfinance) (3.10)\n",
            "Requirement already satisfied: urllib3<3,>=1.21.1 in /usr/local/lib/python3.10/dist-packages (from requests>=2.31->yfinance) (2.2.3)\n",
            "Requirement already satisfied: certifi>=2017.4.17 in /usr/local/lib/python3.10/dist-packages (from requests>=2.31->yfinance) (2024.8.30)\n"
          ]
        }
      ],
      "source": [
        "# Install yfinance package\n",
        "!pip install yfinance"
      ]
    },
    {
      "cell_type": "code",
      "source": [
        "# Install fredapi package\n",
        "!pip install fredapi"
      ],
      "metadata": {
        "colab": {
          "base_uri": "https://localhost:8080/"
        },
        "id": "QbqXFEuVYGqg",
        "outputId": "dcf18ac6-8888-4faa-dacb-95951a6c73a4"
      },
      "execution_count": 17,
      "outputs": [
        {
          "output_type": "stream",
          "name": "stdout",
          "text": [
            "Collecting fredapi\n",
            "  Downloading fredapi-0.5.2-py3-none-any.whl.metadata (5.0 kB)\n",
            "Requirement already satisfied: pandas in /usr/local/lib/python3.10/dist-packages (from fredapi) (2.2.2)\n",
            "Requirement already satisfied: numpy>=1.22.4 in /usr/local/lib/python3.10/dist-packages (from pandas->fredapi) (1.26.4)\n",
            "Requirement already satisfied: python-dateutil>=2.8.2 in /usr/local/lib/python3.10/dist-packages (from pandas->fredapi) (2.8.2)\n",
            "Requirement already satisfied: pytz>=2020.1 in /usr/local/lib/python3.10/dist-packages (from pandas->fredapi) (2024.2)\n",
            "Requirement already satisfied: tzdata>=2022.7 in /usr/local/lib/python3.10/dist-packages (from pandas->fredapi) (2024.2)\n",
            "Requirement already satisfied: six>=1.5 in /usr/local/lib/python3.10/dist-packages (from python-dateutil>=2.8.2->pandas->fredapi) (1.16.0)\n",
            "Downloading fredapi-0.5.2-py3-none-any.whl (11 kB)\n",
            "Installing collected packages: fredapi\n",
            "Successfully installed fredapi-0.5.2\n"
          ]
        }
      ]
    },
    {
      "cell_type": "code",
      "source": [
        "import pandas as pd\n",
        "import requests\n",
        "import yfinance as yf\n",
        "from datetime import datetime, timedelta\n",
        "from fredapi import Fred"
      ],
      "metadata": {
        "id": "_rNFH5vOP_c-"
      },
      "execution_count": 18,
      "outputs": []
    },
    {
      "cell_type": "markdown",
      "source": [
        "## Datasets"
      ],
      "metadata": {
        "id": "MS3NBEOUQhXO"
      }
    },
    {
      "cell_type": "markdown",
      "source": [
        "Untuk data GOLD (XAU/USD) dan DXY, kita bisa menggunakan yfinance untuk mengakses harga penutupan harian."
      ],
      "metadata": {
        "id": "DRHr7T9aQwDW"
      }
    },
    {
      "cell_type": "code",
      "source": [
        "# Define start and end dates\n",
        "start_date = \"2013-05-03\"\n",
        "end_date = \"2022-12-31\"\n",
        "\n",
        "# Fetch GOLD (XAU/USD) dan DXY (Dollar Index) data dari Yahoo Finance\n",
        "gold_data = yf.download(\"GC=F\", start=start_date, end=end_date)[['Close']].rename(columns={'Close': 'GOLD'})\n",
        "dxy_data = yf.download(\"DX-Y.NYB\", start=start_date, end=end_date)[['Close']].rename(columns={'Close': 'DXY'})\n",
        "\n",
        "# Convert Yahoo Finance index to date and reset index\n",
        "gold_data.index = pd.to_datetime(gold_data.index)\n",
        "dxy_data.index = pd.to_datetime(dxy_data.index)\n",
        "\n",
        "# Reset index to bring date as a column and ensure single-index\n",
        "gold_data = gold_data.reset_index()\n",
        "dxy_data = dxy_data.reset_index()\n",
        "\n",
        "# Rename the index column to 'Date' to ensure consistency\n",
        "gold_data.columns = ['Date', 'GOLD']\n",
        "dxy_data.columns = ['Date', 'DXY']\n",
        "\n",
        "# Display the first few rows to confirm the structure\n",
        "print(gold_data.head())\n",
        "print(dxy_data.head())"
      ],
      "metadata": {
        "colab": {
          "base_uri": "https://localhost:8080/"
        },
        "id": "cbXCaFR-Xkox",
        "outputId": "3b6354c7-cb5b-4dcf-b967-6f1fa121b9bb"
      },
      "execution_count": 24,
      "outputs": [
        {
          "output_type": "stream",
          "name": "stderr",
          "text": [
            "[*********************100%***********************]  1 of 1 completed\n",
            "[*********************100%***********************]  1 of 1 completed"
          ]
        },
        {
          "output_type": "stream",
          "name": "stdout",
          "text": [
            "                       Date         GOLD\n",
            "0 2013-05-03 00:00:00+00:00  1464.300049\n",
            "1 2013-05-06 00:00:00+00:00  1468.099976\n",
            "2 2013-05-07 00:00:00+00:00  1449.000000\n",
            "3 2013-05-08 00:00:00+00:00  1473.900024\n",
            "4 2013-05-09 00:00:00+00:00  1468.800049\n",
            "                       Date        DXY\n",
            "0 2013-05-03 00:00:00+00:00  82.099998\n",
            "1 2013-05-06 00:00:00+00:00  82.320000\n",
            "2 2013-05-07 00:00:00+00:00  82.300003\n",
            "3 2013-05-08 00:00:00+00:00  81.900002\n",
            "4 2013-05-09 00:00:00+00:00  82.790001\n"
          ]
        },
        {
          "output_type": "stream",
          "name": "stderr",
          "text": [
            "\n"
          ]
        }
      ]
    },
    {
      "cell_type": "code",
      "source": [
        "# Remove timezone information from 'Date' column in gold_data and dxy_data\n",
        "gold_data['Date'] = gold_data['Date'].dt.tz_localize(None)\n",
        "dxy_data['Date'] = dxy_data['Date'].dt.tz_localize(None)\n",
        "\n",
        "# Display the first few rows to confirm timezone removal\n",
        "print(gold_data.head())\n",
        "print(dxy_data.head())"
      ],
      "metadata": {
        "colab": {
          "base_uri": "https://localhost:8080/"
        },
        "id": "JsdqCI6maqvl",
        "outputId": "712e5aba-8217-48bf-ca7e-849dfb30d5fc"
      },
      "execution_count": 25,
      "outputs": [
        {
          "output_type": "stream",
          "name": "stdout",
          "text": [
            "        Date         GOLD\n",
            "0 2013-05-03  1464.300049\n",
            "1 2013-05-06  1468.099976\n",
            "2 2013-05-07  1449.000000\n",
            "3 2013-05-08  1473.900024\n",
            "4 2013-05-09  1468.800049\n",
            "        Date        DXY\n",
            "0 2013-05-03  82.099998\n",
            "1 2013-05-06  82.320000\n",
            "2 2013-05-07  82.300003\n",
            "3 2013-05-08  81.900002\n",
            "4 2013-05-09  82.790001\n"
          ]
        }
      ]
    },
    {
      "cell_type": "markdown",
      "source": [
        "Untuk data makroekonomi, kita akan menggunakan endpoint FRED API untuk GDP, CPIAUCSL, FEDFUNDS, dan UNRATE."
      ],
      "metadata": {
        "id": "xv9ZDOwGQopH"
      }
    },
    {
      "cell_type": "code",
      "source": [
        "from fredapi import Fred\n",
        "\n",
        "# Define FRED API key (ganti 'your_api_key' dengan API key Anda)\n",
        "fred = Fred(api_key='c0032ef6496fbdef7acbc2ef8a82a00c')\n",
        "\n",
        "# Fetch data dari FRED\n",
        "gdp_data = fred.get_series(\"GDP\", observation_start=start_date, observation_end=end_date)\n",
        "cpi_data = fred.get_series(\"CPIAUCSL\", observation_start=start_date, observation_end=end_date)\n",
        "fedfunds_data = fred.get_series(\"FEDFUNDS\", observation_start=start_date, observation_end=end_date)\n",
        "unrate_data = fred.get_series(\"UNRATE\", observation_start=start_date, observation_end=end_date)\n",
        "\n",
        "# Resample ke frekuensi harian dan reset index\n",
        "gdp_data_daily = gdp_data.resample('D').ffill().to_frame(\"GDP\").reset_index()\n",
        "cpi_data_daily = cpi_data.resample('D').ffill().to_frame(\"CPI\").reset_index()\n",
        "fedfunds_data_daily = fedfunds_data.resample('D').ffill().to_frame(\"FEDFUNDS\").reset_index()\n",
        "unrate_data_daily = unrate_data.resample('D').ffill().to_frame(\"UNRATE\").reset_index()\n",
        "\n",
        "# Display the first few rows to confirm the structure\n",
        "print(gdp_data_daily.head())\n",
        "print(cpi_data_daily.head())\n",
        "print(fedfunds_data_daily.head())\n",
        "print(unrate_data_daily.head())"
      ],
      "metadata": {
        "colab": {
          "base_uri": "https://localhost:8080/"
        },
        "id": "unNejendax_t",
        "outputId": "cd9583d2-9dc2-4f59-b213-f17a9a1ab9a3"
      },
      "execution_count": 26,
      "outputs": [
        {
          "output_type": "stream",
          "name": "stdout",
          "text": [
            "       index        GDP\n",
            "0 2013-04-01  16728.687\n",
            "1 2013-04-02  16728.687\n",
            "2 2013-04-03  16728.687\n",
            "3 2013-04-04  16728.687\n",
            "4 2013-04-05  16728.687\n",
            "       index      CPI\n",
            "0 2013-05-01  231.893\n",
            "1 2013-05-02  231.893\n",
            "2 2013-05-03  231.893\n",
            "3 2013-05-04  231.893\n",
            "4 2013-05-05  231.893\n",
            "       index  FEDFUNDS\n",
            "0 2013-05-01      0.11\n",
            "1 2013-05-02      0.11\n",
            "2 2013-05-03      0.11\n",
            "3 2013-05-04      0.11\n",
            "4 2013-05-05      0.11\n",
            "       index  UNRATE\n",
            "0 2013-05-01     7.5\n",
            "1 2013-05-02     7.5\n",
            "2 2013-05-03     7.5\n",
            "3 2013-05-04     7.5\n",
            "4 2013-05-05     7.5\n"
          ]
        }
      ]
    },
    {
      "cell_type": "code",
      "source": [
        "# Rename 'index' column to 'Date' in all macroeconomic data\n",
        "gdp_data_daily.rename(columns={'index': 'Date'}, inplace=True)\n",
        "cpi_data_daily.rename(columns={'index': 'Date'}, inplace=True)\n",
        "fedfunds_data_daily.rename(columns={'index': 'Date'}, inplace=True)\n",
        "unrate_data_daily.rename(columns={'index': 'Date'}, inplace=True)\n",
        "\n",
        "# Display the first few rows of each DataFrame to confirm the changes\n",
        "print(gdp_data_daily.head())\n",
        "print(cpi_data_daily.head())\n",
        "print(fedfunds_data_daily.head())\n",
        "print(unrate_data_daily.head())"
      ],
      "metadata": {
        "colab": {
          "base_uri": "https://localhost:8080/"
        },
        "id": "HqWCIdYDbgth",
        "outputId": "8e64ae58-cbbf-4a4a-a17c-6be53e463cb3"
      },
      "execution_count": 28,
      "outputs": [
        {
          "output_type": "stream",
          "name": "stdout",
          "text": [
            "        Date        GDP\n",
            "0 2013-04-01  16728.687\n",
            "1 2013-04-02  16728.687\n",
            "2 2013-04-03  16728.687\n",
            "3 2013-04-04  16728.687\n",
            "4 2013-04-05  16728.687\n",
            "        Date      CPI\n",
            "0 2013-05-01  231.893\n",
            "1 2013-05-02  231.893\n",
            "2 2013-05-03  231.893\n",
            "3 2013-05-04  231.893\n",
            "4 2013-05-05  231.893\n",
            "        Date  FEDFUNDS\n",
            "0 2013-05-01      0.11\n",
            "1 2013-05-02      0.11\n",
            "2 2013-05-03      0.11\n",
            "3 2013-05-04      0.11\n",
            "4 2013-05-05      0.11\n",
            "        Date  UNRATE\n",
            "0 2013-05-01     7.5\n",
            "1 2013-05-02     7.5\n",
            "2 2013-05-03     7.5\n",
            "3 2013-05-04     7.5\n",
            "4 2013-05-05     7.5\n"
          ]
        }
      ]
    },
    {
      "cell_type": "markdown",
      "source": [
        "### Merge Dataset"
      ],
      "metadata": {
        "id": "p26K1gPrUpJI"
      }
    },
    {
      "cell_type": "code",
      "source": [
        "# Merge all data on 'Date' column\n",
        "combined_data = gold_data.merge(dxy_data, on=\"Date\", how='inner') \\\n",
        "                         .merge(gdp_data_daily, on=\"Date\", how='inner') \\\n",
        "                         .merge(cpi_data_daily, on=\"Date\", how='inner') \\\n",
        "                         .merge(fedfunds_data_daily, on=\"Date\", how='inner') \\\n",
        "                         .merge(unrate_data_daily, on=\"Date\", how='inner')\n",
        "\n",
        "# Display the first few rows of the combined data for verification\n",
        "print(combined_data.head())"
      ],
      "metadata": {
        "colab": {
          "base_uri": "https://localhost:8080/"
        },
        "id": "HGX6R-xBaIVt",
        "outputId": "1b66695e-e465-4f1e-aa64-001a5648d284"
      },
      "execution_count": 29,
      "outputs": [
        {
          "output_type": "stream",
          "name": "stdout",
          "text": [
            "        Date         GOLD        DXY        GDP      CPI  FEDFUNDS  UNRATE\n",
            "0 2013-05-03  1464.300049  82.099998  16728.687  231.893      0.11     7.5\n",
            "1 2013-05-06  1468.099976  82.320000  16728.687  231.893      0.11     7.5\n",
            "2 2013-05-07  1449.000000  82.300003  16728.687  231.893      0.11     7.5\n",
            "3 2013-05-08  1473.900024  81.900002  16728.687  231.893      0.11     7.5\n",
            "4 2013-05-09  1468.800049  82.790001  16728.687  231.893      0.11     7.5\n"
          ]
        }
      ]
    },
    {
      "cell_type": "markdown",
      "source": [
        "### Export Dataset"
      ],
      "metadata": {
        "id": "Sj11H0HYcCDx"
      }
    },
    {
      "cell_type": "code",
      "source": [
        "from google.colab import files\n",
        "combined_data.to_csv('combined_data.csv', index=False)\n",
        "files.download('combined_data.csv')"
      ],
      "metadata": {
        "colab": {
          "base_uri": "https://localhost:8080/",
          "height": 17
        },
        "id": "KpJEGLNtcEJ4",
        "outputId": "2c272c61-b3fa-4354-d35c-4133aacd9791"
      },
      "execution_count": 30,
      "outputs": [
        {
          "output_type": "display_data",
          "data": {
            "text/plain": [
              "<IPython.core.display.Javascript object>"
            ],
            "application/javascript": [
              "\n",
              "    async function download(id, filename, size) {\n",
              "      if (!google.colab.kernel.accessAllowed) {\n",
              "        return;\n",
              "      }\n",
              "      const div = document.createElement('div');\n",
              "      const label = document.createElement('label');\n",
              "      label.textContent = `Downloading \"${filename}\": `;\n",
              "      div.appendChild(label);\n",
              "      const progress = document.createElement('progress');\n",
              "      progress.max = size;\n",
              "      div.appendChild(progress);\n",
              "      document.body.appendChild(div);\n",
              "\n",
              "      const buffers = [];\n",
              "      let downloaded = 0;\n",
              "\n",
              "      const channel = await google.colab.kernel.comms.open(id);\n",
              "      // Send a message to notify the kernel that we're ready.\n",
              "      channel.send({})\n",
              "\n",
              "      for await (const message of channel.messages) {\n",
              "        // Send a message to notify the kernel that we're ready.\n",
              "        channel.send({})\n",
              "        if (message.buffers) {\n",
              "          for (const buffer of message.buffers) {\n",
              "            buffers.push(buffer);\n",
              "            downloaded += buffer.byteLength;\n",
              "            progress.value = downloaded;\n",
              "          }\n",
              "        }\n",
              "      }\n",
              "      const blob = new Blob(buffers, {type: 'application/binary'});\n",
              "      const a = document.createElement('a');\n",
              "      a.href = window.URL.createObjectURL(blob);\n",
              "      a.download = filename;\n",
              "      div.appendChild(a);\n",
              "      a.click();\n",
              "      div.remove();\n",
              "    }\n",
              "  "
            ]
          },
          "metadata": {}
        },
        {
          "output_type": "display_data",
          "data": {
            "text/plain": [
              "<IPython.core.display.Javascript object>"
            ],
            "application/javascript": [
              "download(\"download_52ebf3de-2c07-4234-a0c5-e179c206d585\", \"combined_data.csv\", 169324)"
            ]
          },
          "metadata": {}
        }
      ]
    }
  ]
}